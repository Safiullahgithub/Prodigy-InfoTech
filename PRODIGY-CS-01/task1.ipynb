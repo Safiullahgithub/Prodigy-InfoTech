{
 "cells": [
  {
   "cell_type": "code",
   "execution_count": null,
   "id": "1d06a9fc-a845-48f1-991c-af4ba0e39f83",
   "metadata": {},
   "outputs": [
    {
     "name": "stdout",
     "output_type": "stream",
     "text": [
      "1. Encrypt\n",
      "2. Decrypt\n",
      "3. Exit\n"
     ]
    },
    {
     "name": "stdin",
     "output_type": "stream",
     "text": [
      "Enter your choice (1/2/3):  1\n",
      "Enter the text to encrypt:  khan\n",
      "Enter the shift value:  5\n"
     ]
    },
    {
     "name": "stdout",
     "output_type": "stream",
     "text": [
      "Encrypted text: pmfs\n",
      "1. Encrypt\n",
      "2. Decrypt\n",
      "3. Exit\n"
     ]
    }
   ],
   "source": [
    "#safi ullah khan \n",
    "def caesar_cipher(text, shift, decrypt=False):\n",
    "    result = \"\"\n",
    "    for char in text:\n",
    "        if char.isalpha():\n",
    "            shift_amount = shift\n",
    "            if decrypt:\n",
    "                shift_amount = -shift_amount\n",
    "            shifted_char = chr((ord(char.lower()) - ord('a') + shift_amount) % 26 + ord('a'))\n",
    "            if char.isupper():\n",
    "                shifted_char = shifted_char.upper()\n",
    "            result += shifted_char\n",
    "        else:\n",
    "            result += char\n",
    "    return result\n",
    "\n",
    "def main():\n",
    "    while True:\n",
    "        print(\"1. Encrypt\")\n",
    "        print(\"2. Decrypt\")\n",
    "        print(\"3. Exit\")\n",
    "        choice = input(\"Enter your choice (1/2/3): \")\n",
    "        if choice == '1':\n",
    "            plaintext = input(\"Enter the text to encrypt: \")\n",
    "            shift = int(input(\"Enter the shift value: \"))\n",
    "            encrypted_text = caesar_cipher(plaintext, shift)\n",
    "            print(\"Encrypted text:\", encrypted_text)\n",
    "        elif choice == '2':\n",
    "            ciphertext = input(\"Enter the text to decrypt: \")\n",
    "            shift = int(input(\"Enter the shift value: \"))\n",
    "            decrypted_text = caesar_cipher(ciphertext, shift, decrypt=True)\n",
    "            print(\"Decrypted text:\", decrypted_text)\n",
    "        elif choice == '3':\n",
    "            break\n",
    "        else:\n",
    "            print(\"Invalid choice. Please enter 1, 2, or 3.\")\n",
    "\n",
    "if __name__ == \"__main__\":\n",
    "    main()\n",
    "\n"
   ]
  },
  {
   "cell_type": "code",
   "execution_count": null,
   "id": "909334a0-19bd-47c5-929d-67b93adae02b",
   "metadata": {},
   "outputs": [],
   "source": []
  }
 ],
 "metadata": {
  "kernelspec": {
   "display_name": "Python 3 (ipykernel)",
   "language": "python",
   "name": "python3"
  },
  "language_info": {
   "codemirror_mode": {
    "name": "ipython",
    "version": 3
   },
   "file_extension": ".py",
   "mimetype": "text/x-python",
   "name": "python",
   "nbconvert_exporter": "python",
   "pygments_lexer": "ipython3",
   "version": "3.11.4"
  }
 },
 "nbformat": 4,
 "nbformat_minor": 5
}
